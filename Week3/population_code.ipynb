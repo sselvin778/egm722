{
 "cells": [
  {
   "cell_type": "code",
   "execution_count": null,
   "id": "757ff7b3-e7da-4df5-990c-e3ef2bdd768d",
   "metadata": {},
   "outputs": [],
   "source": [
    "import geopandas as gpd\n",
    "import matplotlib.pyplot as plt\n",
    "from mpl_toolkits.axes_grid1 import make_axes_locatable\n",
    "from cartopy.feature import ShapelyFeature\n",
    "import cartopy.crs as ccrs\n",
    "import matplotlib.patches as mpatches"
   ]
  },
  {
   "cell_type": "code",
   "execution_count": null,
   "id": "b79be476-263c-41e9-9e74-143a8ea9c42e",
   "metadata": {},
   "outputs": [],
   "source": [
    "counties = gpd.read_file('data_files/Counties.shp')\n",
    "wards = gpd.read_file('data_files/NI_Wards.shp')\n"
   ]
  },
  {
   "cell_type": "code",
   "execution_count": null,
   "id": "8ee89889-4a2e-4da3-8aa1-63a2eb19830e",
   "metadata": {},
   "outputs": [],
   "source": [
    "wards = wards.to_crs(epsg=32629)\n",
    "counties = counties.to_crs(epsg=32629)"
   ]
  },
  {
   "cell_type": "code",
   "execution_count": null,
   "id": "976c65a7-3ac6-42e7-8554-5979067bee4b",
   "metadata": {},
   "outputs": [],
   "source": [
    "wards_county = gpd.sjoin(wards, counties, how='inner', predicate='intersects')"
   ]
  },
  {
   "cell_type": "code",
   "execution_count": null,
   "id": "7785d2ae-0815-487d-b178-b218ced1d38c",
   "metadata": {},
   "outputs": [],
   "source": [
    "population_by_county = wards_county.groupby('CountyName')['Population'].sum().reset_index()"
   ]
  },
  {
   "cell_type": "code",
   "execution_count": null,
   "id": "4a96e435-da37-48cd-bd92-90c8e27d0b34",
   "metadata": {},
   "outputs": [],
   "source": [
    "max_county = population_by_county.loc[population_by_county['Population'].idxmax()]\n",
    "min_county = population_by_county.loc[population_by_county['Population'].idxmin()]"
   ]
  },
  {
   "cell_type": "code",
   "execution_count": null,
   "id": "a2307343-8edd-44c2-a913-8aab0d81b6a6",
   "metadata": {},
   "outputs": [],
   "source": [
    "print(\"County with highest population: {} - {} residents\".format(max_county['CountyName'], max_county['Population']))\n",
    "print(\"County with lowest population: {} - {} residents\".format(min_county['CountyName'], min_county['Population']))"
   ]
  },
  {
   "cell_type": "code",
   "execution_count": null,
   "id": "465ef0d6-417c-46e8-a279-74602a2d382f",
   "metadata": {},
   "outputs": [],
   "source": [
    "ni_utm = ccrs.UTM(29)\n",
    "\n",
    "fig, ax = plt.subplots(1, 1, figsize=(10, 10), subplot_kw=dict(projection=ni_utm))"
   ]
  },
  {
   "cell_type": "code",
   "execution_count": null,
   "id": "7b6f145b-d04c-4861-9a27-98d50dd8e93a",
   "metadata": {},
   "outputs": [],
   "source": [
    "gridlines = ax.gridlines(draw_labels=True, xlocs=[-8, -7.5, -7, -6.5, -6, -5.5], ylocs=[54, 54.5, 55, 55.5])\n",
    "gridlines.right_labels = False\n",
    "gridlines.bottom_labels = False"
   ]
  },
  {
   "cell_type": "code",
   "execution_count": null,
   "id": "5ffe04c1-01ae-4d55-a622-d25afdcb5183",
   "metadata": {},
   "outputs": [],
   "source": [
    "divider = make_axes_locatable(ax)\n",
    "cax = divider.append_axes(\"right\", size=\"5%\", pad=0.1, axes_class=plt.Axes)"
   ]
  },
  {
   "cell_type": "code",
   "execution_count": null,
   "id": "79cab59e-b597-4339-9e27-e7a62cfcd6d5",
   "metadata": {},
   "outputs": [],
   "source": [
    "ward_plot = wards.plot(column='Population', ax=ax, vmin=1000, vmax=8000, cmap='viridis',\n",
    "                       legend=True, cax=cax, legend_kwds={'label': 'Resident Population'})\n"
   ]
  },
  {
   "cell_type": "code",
   "execution_count": null,
   "id": "40cd5fb0-f413-4a99-bfcf-f170503ed0fc",
   "metadata": {},
   "outputs": [],
   "source": [
    "county_outlines = ShapelyFeature(counties['geometry'], ni_utm, edgecolor='r', facecolor='none')\n",
    "ax.add_feature(county_outlines)"
   ]
  },
  {
   "cell_type": "code",
   "execution_count": null,
   "id": "bf374661-3a47-4238-8316-d7cf11965a2b",
   "metadata": {},
   "outputs": [],
   "source": [
    "def generate_handles(labels, colors, edge='k'):\n",
    "    return [mpatches.Patch(facecolor=color, edgecolor=edge, label=label) for label, color in zip(labels, colors)]\n",
    "\n",
    "county_handles = generate_handles([''], ['none'], edge='r')"
   ]
  },
  {
   "cell_type": "code",
   "execution_count": null,
   "id": "12b5ac1f-363b-4720-b12f-c68ac65dce69",
   "metadata": {},
   "outputs": [],
   "source": [
    "ax.legend(county_handles, ['County Boundaries'], fontsize=12, loc='upper left', framealpha=1)"
   ]
  },
  {
   "cell_type": "code",
   "execution_count": null,
   "id": "16d95d67-83f4-490c-9e97-006b85b7cc7c",
   "metadata": {},
   "outputs": [],
   "source": [
    "fig.savefig('population_map.png', dpi=300, bbox_inches='tight')"
   ]
  },
  {
   "cell_type": "code",
   "execution_count": null,
   "id": "637026dd-52b8-40a4-881d-9f72f7163045",
   "metadata": {},
   "outputs": [],
   "source": [
    "print(\"Map saved as population_map.png\")"
   ]
  },
  {
   "cell_type": "code",
   "execution_count": null,
   "id": "ba84ff52-2602-47ce-8564-f5e832ccf364",
   "metadata": {},
   "outputs": [],
   "source": []
  }
 ],
 "metadata": {
  "kernelspec": {
   "display_name": "Python 3 (ipykernel)",
   "language": "python",
   "name": "python3"
  },
  "language_info": {
   "codemirror_mode": {
    "name": "ipython",
    "version": 3
   },
   "file_extension": ".py",
   "mimetype": "text/x-python",
   "name": "python",
   "nbconvert_exporter": "python",
   "pygments_lexer": "ipython3",
   "version": "3.13.2"
  }
 },
 "nbformat": 4,
 "nbformat_minor": 5
}
